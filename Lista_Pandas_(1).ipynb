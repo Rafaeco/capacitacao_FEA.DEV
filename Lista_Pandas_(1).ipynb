{
  "cells": [
    {
      "cell_type": "markdown",
      "metadata": {
        "id": "UAEy4Agk-yiU"
      },
      "source": [
        "0. Importe as bibliotecas necessárias"
      ]
    },
    {
      "cell_type": "code",
      "execution_count": 1,
      "metadata": {
        "id": "Nz4DLp-b-3CY"
      },
      "outputs": [],
      "source": [
        "import pandas as pd\n",
        "import numpy as np"
      ]
    },
    {
      "cell_type": "markdown",
      "metadata": {
        "id": "VrPZY2hh6LHV"
      },
      "source": [
        "1. Importe os dados sobre os penguins, que se encontra no link abaixo.\n",
        "\n",
        "https://raw.githubusercontent.com/mwaskom/seaborn-data/master/penguins.csv"
      ]
    },
    {
      "cell_type": "code",
      "execution_count": 6,
      "metadata": {
        "id": "7vouJCaL-3qk",
        "colab": {
          "base_uri": "https://localhost:8080/"
        },
        "outputId": "ee688b40-29cd-4c03-8744-7f694c880e28"
      },
      "outputs": [
        {
          "output_type": "execute_result",
          "data": {
            "text/plain": [
              "(344, 7)"
            ]
          },
          "metadata": {},
          "execution_count": 6
        }
      ],
      "source": [
        "p = pd.read_csv('https://raw.githubusercontent.com/mwaskom/seaborn-data/master/penguins.csv')\n",
        "p.shape"
      ]
    },
    {
      "cell_type": "markdown",
      "metadata": {
        "id": "wKooYLwc6n4O"
      },
      "source": [
        "3. Mude os elementos da coluna `sex` (\"MALE\" e \"FEMALE\") para português (\"MASCULINO\" e \"FEMININO\") "
      ]
    },
    {
      "cell_type": "code",
      "execution_count": 3,
      "metadata": {
        "id": "QG56C7la-4g0"
      },
      "outputs": [],
      "source": [
        "p['sex'] = p['sex'].replace(['MALE', 'FEMALE'], ['MASCULINO', 'FEMININO'])\n"
      ]
    },
    {
      "cell_type": "markdown",
      "metadata": {
        "id": "S8goPDny7QuK"
      },
      "source": [
        "4. Crie uma coluna com o quadrado do peso chamada `quadpeso`"
      ]
    },
    {
      "cell_type": "code",
      "execution_count": 5,
      "metadata": {
        "id": "TSGu7qXW-426"
      },
      "outputs": [],
      "source": [
        "p['quadpeso'] =  p['body_mass_g'] ** 2\n"
      ]
    },
    {
      "cell_type": "markdown",
      "metadata": {
        "id": "LNY_KQ7965IO"
      },
      "source": [
        "5. Crie uma coluna chamada `acima_da_media`, que contenha valores booleanos, `True` caso o pinguin esteja com o peso acima da média e `False` caso o pinguin esteja com o peso na média ou abaixo da média. "
      ]
    },
    {
      "cell_type": "code",
      "execution_count": 8,
      "metadata": {
        "id": "MzQ3k70v-5X1"
      },
      "outputs": [],
      "source": [
        "p['acima_da_media'] = p['body_mass_g'] > p['body_mass_g'].mean()"
      ]
    },
    {
      "cell_type": "markdown",
      "metadata": {
        "id": "CSTCkh_N649G"
      },
      "source": [
        "6. Calcule quantos penguins, por espécie, estão com o peso acima da **média**"
      ]
    },
    {
      "cell_type": "code",
      "execution_count": 9,
      "metadata": {
        "id": "hlPcbk3y-5tK",
        "colab": {
          "base_uri": "https://localhost:8080/"
        },
        "outputId": "05852dbe-6cfb-4272-81bf-ec209b149b05"
      },
      "outputs": [
        {
          "output_type": "execute_result",
          "data": {
            "text/plain": [
              "species\n",
              "Adelie        25\n",
              "Chinstrap      7\n",
              "Gentoo       117\n",
              "Name: acima_da_media, dtype: int64"
            ]
          },
          "metadata": {},
          "execution_count": 9
        }
      ],
      "source": [
        "p.groupby('species')['acima_da_media'].sum()"
      ]
    },
    {
      "cell_type": "markdown",
      "metadata": {
        "id": "y6RPcxpN7_cT"
      },
      "source": [
        "7. Calcule a média e o desvio-padrão dos pinguins, por sexo e por ilha. Depois, jogue fora as linhas que são NaN"
      ]
    },
    {
      "cell_type": "code",
      "execution_count": 11,
      "metadata": {
        "id": "ltqpVAvn-6EM",
        "colab": {
          "base_uri": "https://localhost:8080/"
        },
        "outputId": "89729c76-cf9a-4588-8f22-15cc54b89806"
      },
      "outputs": [
        {
          "output_type": "stream",
          "name": "stdout",
          "text": [
            "                         mean         std\n",
            "island    sex                            \n",
            "Biscoe    FEMALE  4319.375000  659.748885\n",
            "          MALE    5104.518072  714.197748\n",
            "Dream     FEMALE  3446.311475  269.522574\n",
            "          MALE    3987.096774  349.523737\n",
            "Torgersen FEMALE  3395.833333  259.144356\n",
            "          MALE    4034.782609  372.471714\n"
          ]
        }
      ],
      "source": [
        "print(p.groupby(['island', 'sex'])['body_mass_g'].agg(['mean', 'std']))\n",
        "p = p.dropna()"
      ]
    },
    {
      "cell_type": "markdown",
      "metadata": {
        "id": "wlq8oM128OA4"
      },
      "source": [
        "8. Encontre os pinguins que estão acima de dois desvio-padrão do peso médio.\n",
        "\n",
        "obs: você precisará filtrar os pinguins que estejam acima de `2 * desvio_padrão + peso_médio`"
      ]
    },
    {
      "cell_type": "code",
      "execution_count": 12,
      "metadata": {
        "id": "D1v-9R_J-6Ux",
        "colab": {
          "base_uri": "https://localhost:8080/"
        },
        "outputId": "26932f42-f358-43ff-e76e-7b08233a8c5c"
      },
      "outputs": [
        {
          "output_type": "stream",
          "name": "stdout",
          "text": [
            "    species  island  bill_length_mm  bill_depth_mm  flipper_length_mm  \\\n",
            "233  Gentoo  Biscoe            48.4           14.6              213.0   \n",
            "235  Gentoo  Biscoe            49.3           15.7              217.0   \n",
            "237  Gentoo  Biscoe            49.2           15.2              221.0   \n",
            "253  Gentoo  Biscoe            59.6           17.0              230.0   \n",
            "297  Gentoo  Biscoe            51.1           16.3              220.0   \n",
            "299  Gentoo  Biscoe            45.2           16.4              223.0   \n",
            "331  Gentoo  Biscoe            49.8           15.9              229.0   \n",
            "335  Gentoo  Biscoe            55.1           16.0              230.0   \n",
            "337  Gentoo  Biscoe            48.8           16.2              222.0   \n",
            "\n",
            "     body_mass_g   sex  acima_da_media  \n",
            "233       5850.0  MALE            True  \n",
            "235       5850.0  MALE            True  \n",
            "237       6300.0  MALE            True  \n",
            "253       6050.0  MALE            True  \n",
            "297       6000.0  MALE            True  \n",
            "299       5950.0  MALE            True  \n",
            "331       5950.0  MALE            True  \n",
            "335       5850.0  MALE            True  \n",
            "337       6000.0  MALE            True  \n"
          ]
        }
      ],
      "source": [
        "desvio = p['body_mass_g'].std()\n",
        "media =  p['body_mass_g'].mean()\n",
        "print(p[p['body_mass_g'] > (2 * desvio + media)])"
      ]
    },
    {
      "cell_type": "markdown",
      "metadata": {
        "id": "ZdfFgSCW8mGt"
      },
      "source": [
        "9. Para cada grupo de ilha e espécie, encontre o tamanho de bico mediano e a quantidade de penguins"
      ]
    },
    {
      "cell_type": "code",
      "execution_count": 13,
      "metadata": {
        "id": "Eb0vfVUO-6lC",
        "colab": {
          "base_uri": "https://localhost:8080/"
        },
        "outputId": "d0cb4c28-5950-4681-de91-bc65ad43f3a5"
      },
      "outputs": [
        {
          "output_type": "stream",
          "name": "stdout",
          "text": [
            "                     median  count\n",
            "species   island                  \n",
            "Adelie    Biscoe      38.70     44\n",
            "          Dream       38.80     55\n",
            "          Torgersen   39.00     47\n",
            "Chinstrap Dream       49.55     68\n",
            "Gentoo    Biscoe      47.40    119\n"
          ]
        }
      ],
      "source": [
        "print(p.groupby(['species', 'island'])['bill_length_mm'].agg(['median', 'count']))\n"
      ]
    },
    {
      "cell_type": "markdown",
      "metadata": {
        "id": "EXzeJISX8z2u"
      },
      "source": [
        "10. Importe os CSVs abaixo para variáveis:\n",
        "\n",
        "`flights.csv`, `airports.csv`, `planes.csv` e `airlines`"
      ]
    },
    {
      "cell_type": "code",
      "execution_count": 14,
      "metadata": {
        "id": "dJxRw6OE-611"
      },
      "outputs": [],
      "source": [
        "flights = pd.read_csv('flights.csv')\n",
        "airports = pd.read_csv('airports.csv')\n",
        "planes = pd.read_csv('planes.csv')\n",
        "airlines = pd.read_csv('airlines.csv')"
      ]
    },
    {
      "cell_type": "markdown",
      "metadata": {
        "id": "xt044V4z9aL-"
      },
      "source": [
        "11. Faça um `left_join` de flights e planes. Depois, faça a média de atraso (`arr_delay`) por `manufacturer`. Tente arranjar os dados para descobrirmos quais são os que mais atrasam *na média* "
      ]
    },
    {
      "cell_type": "code",
      "execution_count": 16,
      "metadata": {
        "id": "F_utTv_3-7F4",
        "colab": {
          "base_uri": "https://localhost:8080/"
        },
        "outputId": "2153c8a1-a31d-4329-ef67-dc183ecb9981"
      },
      "outputs": [
        {
          "output_type": "stream",
          "name": "stdout",
          "text": [
            "manufacturer\n",
            "AIRBUS            5.307692\n",
            "BOEING           -3.666667\n",
            "BOMBARDIER INC   -2.400000\n",
            "EMBRAER          -5.872340\n",
            "Name: arr_delay, dtype: float64\n"
          ]
        }
      ],
      "source": [
        "left = pd.merge(flights, planes, how = 'left')\n",
        "print(left.groupby('manufacturer')['arr_delay'].mean())"
      ]
    },
    {
      "cell_type": "markdown",
      "metadata": {
        "id": "LrV_KVDd-HzF"
      },
      "source": [
        "12. Com os dados juntados anteriormente, junte também o dataframe de `airlines`, de acordo com as colunas em comum. Depois, descubra a quantidade de linhas por `origin` e `airlines`"
      ]
    },
    {
      "cell_type": "code",
      "execution_count": 17,
      "metadata": {
        "id": "zHaZ_GC2-7Vd",
        "colab": {
          "base_uri": "https://localhost:8080/"
        },
        "outputId": "43c9e576-31d1-4979-bee9-553db1793f7c"
      },
      "outputs": [
        {
          "output_type": "stream",
          "name": "stdout",
          "text": [
            "origin  name                       \n",
            "EWR     Alaska Airlines Inc.             77\n",
            "        American Airlines Inc.          370\n",
            "        Delta Air Lines Inc.            375\n",
            "        Endeavor Air Inc.               119\n",
            "        Envoy Air                       247\n",
            "        ExpressJet Airlines Inc.       4742\n",
            "        JetBlue Airways                 695\n",
            "        Southwest Airlines Co.          660\n",
            "        US Airways Inc.                 454\n",
            "        United Air Lines Inc.          4627\n",
            "        Virgin America                   42\n",
            "JFK     American Airlines Inc.         1506\n",
            "        Delta Air Lines Inc.           1974\n",
            "        Endeavor Air Inc.              1672\n",
            "        Envoy Air                       750\n",
            "        ExpressJet Airlines Inc.        140\n",
            "        Hawaiian Airlines Inc.           36\n",
            "        JetBlue Airways                4168\n",
            "        US Airways Inc.                 307\n",
            "        United Air Lines Inc.           482\n",
            "        Virgin America                  391\n",
            "LGA     AirTran Airways Corporation     386\n",
            "        American Airlines Inc.         1594\n",
            "        Delta Air Lines Inc.           2345\n",
            "        Endeavor Air Inc.               188\n",
            "        Envoy Air                      1826\n",
            "        ExpressJet Airlines Inc.        522\n",
            "        Frontier Airlines Inc.           73\n",
            "        JetBlue Airways                 649\n",
            "        Mesa Airlines Inc.               61\n",
            "        SkyWest Airlines Inc.             1\n",
            "        Southwest Airlines Co.          608\n",
            "        US Airways Inc.                1303\n",
            "        United Air Lines Inc.           797\n",
            "Name: flight, dtype: int64\n"
          ]
        }
      ],
      "source": [
        "left_airlines = pd.merge(left, airlines, on = 'carrier', how = 'left')\n",
        "\n",
        "print(left_airlines.groupby(['origin', 'name'])['flight'].count())"
      ]
    }
  ],
  "metadata": {
    "colab": {
      "collapsed_sections": [],
      "provenance": []
    },
    "kernelspec": {
      "display_name": "Python 3 (ipykernel)",
      "language": "python",
      "name": "python3"
    },
    "language_info": {
      "codemirror_mode": {
        "name": "ipython",
        "version": 3
      },
      "file_extension": ".py",
      "mimetype": "text/x-python",
      "name": "python",
      "nbconvert_exporter": "python",
      "pygments_lexer": "ipython3",
      "version": "3.8.9"
    }
  },
  "nbformat": 4,
  "nbformat_minor": 0
}