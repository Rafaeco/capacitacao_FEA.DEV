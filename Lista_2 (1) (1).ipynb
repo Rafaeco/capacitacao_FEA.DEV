{
 "cells": [
  {
   "cell_type": "markdown",
   "id": "19ba480c",
   "metadata": {},
   "source": [
    "# Lista de Exercícios"
   ]
  },
  {
   "cell_type": "markdown",
   "id": "dffd9d9c",
   "metadata": {},
   "source": [
    "1) Crie um array formado de números (de 0 a 10) de tamanho 5 e atribua ele a uma variável chamada \"arr1\""
   ]
  },
  {
   "cell_type": "code",
   "execution_count": 6,
   "id": "9f8eddf9",
   "metadata": {},
   "outputs": [],
   "source": [
    "import numpy as np\n",
    "arr1 = np.array([10, 9, 8, 3, 4])\n",
    "import random\n",
    "num = []\n",
    "n= 0\n",
    "while n < 5:\n",
    "    num.append(random.randint(0, 10))\n",
    "    n += 1\n",
    "arr1 = np.array(num)\n",
    "print(arr1)"
   ]
  },
  {
   "cell_type": "markdown",
   "id": "ac6c1fb7",
   "metadata": {},
   "source": [
    "Suponha que os elementos do \"arr1\" são suas notas em uma determinada disciplina da faculdade. Daqui em diante vamos descobrir se você será aprovado(a) ou não."
   ]
  },
  {
   "cell_type": "markdown",
   "id": "fb969d9e",
   "metadata": {},
   "source": [
    "2) Você descobriu que normalmente a professora tira a média simples das notas e que para a aprovação é necessária uma nota acima de 5. Com isso em mente, encontre a sua média e printe o resultado."
   ]
  },
  {
   "cell_type": "code",
   "execution_count": 7,
   "id": "b321b331",
   "metadata": {},
   "outputs": [
    {
     "name": "stdout",
     "output_type": "stream",
     "text": [
      "8.0\n"
     ]
    }
   ],
   "source": [
    "if np.average(arr1) > 5:\n",
    "    print(f'Você foi aprovado!')\n",
    "else:\n",
    "    print(f'Você não foi aprovado :(')"
   ]
  },
  {
   "cell_type": "markdown",
   "id": "3c5cb2bd",
   "metadata": {},
   "source": [
    "3) Após ter o resultado inicial na 2), você descobre que a professora decidiu alterar o método nesse semestre e a sua média será feita de uma forma diferente. Ela anunciou que para a aprovação é necessário que ao menos 3 das 5 notas tenham sido acima de 5 e que, dentre essas notas, ao menos uma tenha o valor maior ou igual a 7."
   ]
  },
  {
   "cell_type": "markdown",
   "id": "568114da",
   "metadata": {},
   "source": [
    "a) Retorne a quantidade de notas acima de 5"
   ]
  },
  {
   "cell_type": "code",
   "execution_count": 8,
   "id": "7ffc14f2",
   "metadata": {},
   "outputs": [
    {
     "ename": "AttributeError",
     "evalue": "module 'numpy' has no attribute 'max'",
     "output_type": "error",
     "traceback": [
      "\u001b[1;31m---------------------------------------------------------------------------\u001b[0m",
      "\u001b[1;31mAttributeError\u001b[0m                            Traceback (most recent call last)",
      "\u001b[1;32m~\\anaconda3\\lib\\site-packages\\IPython\\core\\formatters.py\u001b[0m in \u001b[0;36m__call__\u001b[1;34m(self, obj)\u001b[0m\n\u001b[0;32m    700\u001b[0m                 \u001b[0mtype_pprinters\u001b[0m\u001b[1;33m=\u001b[0m\u001b[0mself\u001b[0m\u001b[1;33m.\u001b[0m\u001b[0mtype_printers\u001b[0m\u001b[1;33m,\u001b[0m\u001b[1;33m\u001b[0m\u001b[1;33m\u001b[0m\u001b[0m\n\u001b[0;32m    701\u001b[0m                 deferred_pprinters=self.deferred_printers)\n\u001b[1;32m--> 702\u001b[1;33m             \u001b[0mprinter\u001b[0m\u001b[1;33m.\u001b[0m\u001b[0mpretty\u001b[0m\u001b[1;33m(\u001b[0m\u001b[0mobj\u001b[0m\u001b[1;33m)\u001b[0m\u001b[1;33m\u001b[0m\u001b[1;33m\u001b[0m\u001b[0m\n\u001b[0m\u001b[0;32m    703\u001b[0m             \u001b[0mprinter\u001b[0m\u001b[1;33m.\u001b[0m\u001b[0mflush\u001b[0m\u001b[1;33m(\u001b[0m\u001b[1;33m)\u001b[0m\u001b[1;33m\u001b[0m\u001b[1;33m\u001b[0m\u001b[0m\n\u001b[0;32m    704\u001b[0m             \u001b[1;32mreturn\u001b[0m \u001b[0mstream\u001b[0m\u001b[1;33m.\u001b[0m\u001b[0mgetvalue\u001b[0m\u001b[1;33m(\u001b[0m\u001b[1;33m)\u001b[0m\u001b[1;33m\u001b[0m\u001b[1;33m\u001b[0m\u001b[0m\n",
      "\u001b[1;32m~\\anaconda3\\lib\\site-packages\\IPython\\lib\\pretty.py\u001b[0m in \u001b[0;36mpretty\u001b[1;34m(self, obj)\u001b[0m\n\u001b[0;32m    392\u001b[0m                         \u001b[1;32mif\u001b[0m \u001b[0mcls\u001b[0m \u001b[1;32mis\u001b[0m \u001b[1;32mnot\u001b[0m \u001b[0mobject\u001b[0m\u001b[0;31m \u001b[0m\u001b[0;31m\\\u001b[0m\u001b[1;33m\u001b[0m\u001b[1;33m\u001b[0m\u001b[0m\n\u001b[0;32m    393\u001b[0m                                 \u001b[1;32mand\u001b[0m \u001b[0mcallable\u001b[0m\u001b[1;33m(\u001b[0m\u001b[0mcls\u001b[0m\u001b[1;33m.\u001b[0m\u001b[0m__dict__\u001b[0m\u001b[1;33m.\u001b[0m\u001b[0mget\u001b[0m\u001b[1;33m(\u001b[0m\u001b[1;34m'__repr__'\u001b[0m\u001b[1;33m)\u001b[0m\u001b[1;33m)\u001b[0m\u001b[1;33m:\u001b[0m\u001b[1;33m\u001b[0m\u001b[1;33m\u001b[0m\u001b[0m\n\u001b[1;32m--> 394\u001b[1;33m                             \u001b[1;32mreturn\u001b[0m \u001b[0m_repr_pprint\u001b[0m\u001b[1;33m(\u001b[0m\u001b[0mobj\u001b[0m\u001b[1;33m,\u001b[0m \u001b[0mself\u001b[0m\u001b[1;33m,\u001b[0m \u001b[0mcycle\u001b[0m\u001b[1;33m)\u001b[0m\u001b[1;33m\u001b[0m\u001b[1;33m\u001b[0m\u001b[0m\n\u001b[0m\u001b[0;32m    395\u001b[0m \u001b[1;33m\u001b[0m\u001b[0m\n\u001b[0;32m    396\u001b[0m             \u001b[1;32mreturn\u001b[0m \u001b[0m_default_pprint\u001b[0m\u001b[1;33m(\u001b[0m\u001b[0mobj\u001b[0m\u001b[1;33m,\u001b[0m \u001b[0mself\u001b[0m\u001b[1;33m,\u001b[0m \u001b[0mcycle\u001b[0m\u001b[1;33m)\u001b[0m\u001b[1;33m\u001b[0m\u001b[1;33m\u001b[0m\u001b[0m\n",
      "\u001b[1;32m~\\anaconda3\\lib\\site-packages\\IPython\\lib\\pretty.py\u001b[0m in \u001b[0;36m_repr_pprint\u001b[1;34m(obj, p, cycle)\u001b[0m\n\u001b[0;32m    698\u001b[0m     \u001b[1;34m\"\"\"A pprint that just redirects to the normal repr function.\"\"\"\u001b[0m\u001b[1;33m\u001b[0m\u001b[1;33m\u001b[0m\u001b[0m\n\u001b[0;32m    699\u001b[0m     \u001b[1;31m# Find newlines and replace them with p.break_()\u001b[0m\u001b[1;33m\u001b[0m\u001b[1;33m\u001b[0m\u001b[0m\n\u001b[1;32m--> 700\u001b[1;33m     \u001b[0moutput\u001b[0m \u001b[1;33m=\u001b[0m \u001b[0mrepr\u001b[0m\u001b[1;33m(\u001b[0m\u001b[0mobj\u001b[0m\u001b[1;33m)\u001b[0m\u001b[1;33m\u001b[0m\u001b[1;33m\u001b[0m\u001b[0m\n\u001b[0m\u001b[0;32m    701\u001b[0m     \u001b[0mlines\u001b[0m \u001b[1;33m=\u001b[0m \u001b[0moutput\u001b[0m\u001b[1;33m.\u001b[0m\u001b[0msplitlines\u001b[0m\u001b[1;33m(\u001b[0m\u001b[1;33m)\u001b[0m\u001b[1;33m\u001b[0m\u001b[1;33m\u001b[0m\u001b[0m\n\u001b[0;32m    702\u001b[0m     \u001b[1;32mwith\u001b[0m \u001b[0mp\u001b[0m\u001b[1;33m.\u001b[0m\u001b[0mgroup\u001b[0m\u001b[1;33m(\u001b[0m\u001b[1;33m)\u001b[0m\u001b[1;33m:\u001b[0m\u001b[1;33m\u001b[0m\u001b[1;33m\u001b[0m\u001b[0m\n",
      "\u001b[1;32m~\\anaconda3\\lib\\site-packages\\numpy\\core\\arrayprint.py\u001b[0m in \u001b[0;36m_array_repr_implementation\u001b[1;34m(arr, max_line_width, precision, suppress_small, array2string)\u001b[0m\n\u001b[0;32m   1411\u001b[0m         \u001b[0mlst\u001b[0m \u001b[1;33m=\u001b[0m \u001b[0mrepr\u001b[0m\u001b[1;33m(\u001b[0m\u001b[0marr\u001b[0m\u001b[1;33m.\u001b[0m\u001b[0mitem\u001b[0m\u001b[1;33m(\u001b[0m\u001b[1;33m)\u001b[0m\u001b[1;33m)\u001b[0m\u001b[1;33m\u001b[0m\u001b[1;33m\u001b[0m\u001b[0m\n\u001b[0;32m   1412\u001b[0m     \u001b[1;32melif\u001b[0m \u001b[0marr\u001b[0m\u001b[1;33m.\u001b[0m\u001b[0msize\u001b[0m \u001b[1;33m>\u001b[0m \u001b[1;36m0\u001b[0m \u001b[1;32mor\u001b[0m \u001b[0marr\u001b[0m\u001b[1;33m.\u001b[0m\u001b[0mshape\u001b[0m \u001b[1;33m==\u001b[0m \u001b[1;33m(\u001b[0m\u001b[1;36m0\u001b[0m\u001b[1;33m,\u001b[0m\u001b[1;33m)\u001b[0m\u001b[1;33m:\u001b[0m\u001b[1;33m\u001b[0m\u001b[1;33m\u001b[0m\u001b[0m\n\u001b[1;32m-> 1413\u001b[1;33m         lst = array2string(arr, max_line_width, precision, suppress_small,\n\u001b[0m\u001b[0;32m   1414\u001b[0m                            ', ', prefix, suffix=suffix)\n\u001b[0;32m   1415\u001b[0m     \u001b[1;32melse\u001b[0m\u001b[1;33m:\u001b[0m  \u001b[1;31m# show zero-length shape unless it is (0,)\u001b[0m\u001b[1;33m\u001b[0m\u001b[1;33m\u001b[0m\u001b[0m\n",
      "\u001b[1;32m~\\anaconda3\\lib\\site-packages\\numpy\\core\\arrayprint.py\u001b[0m in \u001b[0;36marray2string\u001b[1;34m(a, max_line_width, precision, suppress_small, separator, prefix, style, formatter, threshold, edgeitems, sign, floatmode, suffix, legacy)\u001b[0m\n\u001b[0;32m    690\u001b[0m         \u001b[1;32mreturn\u001b[0m \u001b[1;34m\"[]\"\u001b[0m\u001b[1;33m\u001b[0m\u001b[1;33m\u001b[0m\u001b[0m\n\u001b[0;32m    691\u001b[0m \u001b[1;33m\u001b[0m\u001b[0m\n\u001b[1;32m--> 692\u001b[1;33m     \u001b[1;32mreturn\u001b[0m \u001b[0m_array2string\u001b[0m\u001b[1;33m(\u001b[0m\u001b[0ma\u001b[0m\u001b[1;33m,\u001b[0m \u001b[0moptions\u001b[0m\u001b[1;33m,\u001b[0m \u001b[0mseparator\u001b[0m\u001b[1;33m,\u001b[0m \u001b[0mprefix\u001b[0m\u001b[1;33m)\u001b[0m\u001b[1;33m\u001b[0m\u001b[1;33m\u001b[0m\u001b[0m\n\u001b[0m\u001b[0;32m    693\u001b[0m \u001b[1;33m\u001b[0m\u001b[0m\n\u001b[0;32m    694\u001b[0m \u001b[1;33m\u001b[0m\u001b[0m\n",
      "\u001b[1;32m~\\anaconda3\\lib\\site-packages\\numpy\\core\\arrayprint.py\u001b[0m in \u001b[0;36mwrapper\u001b[1;34m(self, *args, **kwargs)\u001b[0m\n\u001b[0;32m    466\u001b[0m             \u001b[0mrepr_running\u001b[0m\u001b[1;33m.\u001b[0m\u001b[0madd\u001b[0m\u001b[1;33m(\u001b[0m\u001b[0mkey\u001b[0m\u001b[1;33m)\u001b[0m\u001b[1;33m\u001b[0m\u001b[1;33m\u001b[0m\u001b[0m\n\u001b[0;32m    467\u001b[0m             \u001b[1;32mtry\u001b[0m\u001b[1;33m:\u001b[0m\u001b[1;33m\u001b[0m\u001b[1;33m\u001b[0m\u001b[0m\n\u001b[1;32m--> 468\u001b[1;33m                 \u001b[1;32mreturn\u001b[0m \u001b[0mf\u001b[0m\u001b[1;33m(\u001b[0m\u001b[0mself\u001b[0m\u001b[1;33m,\u001b[0m \u001b[1;33m*\u001b[0m\u001b[0margs\u001b[0m\u001b[1;33m,\u001b[0m \u001b[1;33m**\u001b[0m\u001b[0mkwargs\u001b[0m\u001b[1;33m)\u001b[0m\u001b[1;33m\u001b[0m\u001b[1;33m\u001b[0m\u001b[0m\n\u001b[0m\u001b[0;32m    469\u001b[0m             \u001b[1;32mfinally\u001b[0m\u001b[1;33m:\u001b[0m\u001b[1;33m\u001b[0m\u001b[1;33m\u001b[0m\u001b[0m\n\u001b[0;32m    470\u001b[0m                 \u001b[0mrepr_running\u001b[0m\u001b[1;33m.\u001b[0m\u001b[0mdiscard\u001b[0m\u001b[1;33m(\u001b[0m\u001b[0mkey\u001b[0m\u001b[1;33m)\u001b[0m\u001b[1;33m\u001b[0m\u001b[1;33m\u001b[0m\u001b[0m\n",
      "\u001b[1;32m~\\anaconda3\\lib\\site-packages\\numpy\\core\\arrayprint.py\u001b[0m in \u001b[0;36m_array2string\u001b[1;34m(a, options, separator, prefix)\u001b[0m\n\u001b[0;32m    492\u001b[0m \u001b[1;33m\u001b[0m\u001b[0m\n\u001b[0;32m    493\u001b[0m     \u001b[1;31m# find the right formatting function for the array\u001b[0m\u001b[1;33m\u001b[0m\u001b[1;33m\u001b[0m\u001b[0m\n\u001b[1;32m--> 494\u001b[1;33m     \u001b[0mformat_function\u001b[0m \u001b[1;33m=\u001b[0m \u001b[0m_get_format_function\u001b[0m\u001b[1;33m(\u001b[0m\u001b[0mdata\u001b[0m\u001b[1;33m,\u001b[0m \u001b[1;33m**\u001b[0m\u001b[0moptions\u001b[0m\u001b[1;33m)\u001b[0m\u001b[1;33m\u001b[0m\u001b[1;33m\u001b[0m\u001b[0m\n\u001b[0m\u001b[0;32m    495\u001b[0m \u001b[1;33m\u001b[0m\u001b[0m\n\u001b[0;32m    496\u001b[0m     \u001b[1;31m# skip over \"[\"\u001b[0m\u001b[1;33m\u001b[0m\u001b[1;33m\u001b[0m\u001b[0m\n",
      "\u001b[1;32m~\\anaconda3\\lib\\site-packages\\numpy\\core\\arrayprint.py\u001b[0m in \u001b[0;36m_get_format_function\u001b[1;34m(data, **options)\u001b[0m\n\u001b[0;32m    420\u001b[0m             \u001b[1;32mreturn\u001b[0m \u001b[0mformatdict\u001b[0m\u001b[1;33m[\u001b[0m\u001b[1;34m'timedelta'\u001b[0m\u001b[1;33m]\u001b[0m\u001b[1;33m(\u001b[0m\u001b[1;33m)\u001b[0m\u001b[1;33m\u001b[0m\u001b[1;33m\u001b[0m\u001b[0m\n\u001b[0;32m    421\u001b[0m         \u001b[1;32melse\u001b[0m\u001b[1;33m:\u001b[0m\u001b[1;33m\u001b[0m\u001b[1;33m\u001b[0m\u001b[0m\n\u001b[1;32m--> 422\u001b[1;33m             \u001b[1;32mreturn\u001b[0m \u001b[0mformatdict\u001b[0m\u001b[1;33m[\u001b[0m\u001b[1;34m'int'\u001b[0m\u001b[1;33m]\u001b[0m\u001b[1;33m(\u001b[0m\u001b[1;33m)\u001b[0m\u001b[1;33m\u001b[0m\u001b[1;33m\u001b[0m\u001b[0m\n\u001b[0m\u001b[0;32m    423\u001b[0m     \u001b[1;32melif\u001b[0m \u001b[0missubclass\u001b[0m\u001b[1;33m(\u001b[0m\u001b[0mdtypeobj\u001b[0m\u001b[1;33m,\u001b[0m \u001b[0m_nt\u001b[0m\u001b[1;33m.\u001b[0m\u001b[0mfloating\u001b[0m\u001b[1;33m)\u001b[0m\u001b[1;33m:\u001b[0m\u001b[1;33m\u001b[0m\u001b[1;33m\u001b[0m\u001b[0m\n\u001b[0;32m    424\u001b[0m         \u001b[1;32mif\u001b[0m \u001b[0missubclass\u001b[0m\u001b[1;33m(\u001b[0m\u001b[0mdtypeobj\u001b[0m\u001b[1;33m,\u001b[0m \u001b[0m_nt\u001b[0m\u001b[1;33m.\u001b[0m\u001b[0mlongfloat\u001b[0m\u001b[1;33m)\u001b[0m\u001b[1;33m:\u001b[0m\u001b[1;33m\u001b[0m\u001b[1;33m\u001b[0m\u001b[0m\n",
      "\u001b[1;32m~\\anaconda3\\lib\\site-packages\\numpy\\core\\arrayprint.py\u001b[0m in \u001b[0;36m<lambda>\u001b[1;34m()\u001b[0m\n\u001b[0;32m    363\u001b[0m     formatdict = {\n\u001b[0;32m    364\u001b[0m         \u001b[1;34m'bool'\u001b[0m\u001b[1;33m:\u001b[0m \u001b[1;32mlambda\u001b[0m\u001b[1;33m:\u001b[0m \u001b[0mBoolFormat\u001b[0m\u001b[1;33m(\u001b[0m\u001b[0mdata\u001b[0m\u001b[1;33m)\u001b[0m\u001b[1;33m,\u001b[0m\u001b[1;33m\u001b[0m\u001b[1;33m\u001b[0m\u001b[0m\n\u001b[1;32m--> 365\u001b[1;33m         \u001b[1;34m'int'\u001b[0m\u001b[1;33m:\u001b[0m \u001b[1;32mlambda\u001b[0m\u001b[1;33m:\u001b[0m \u001b[0mIntegerFormat\u001b[0m\u001b[1;33m(\u001b[0m\u001b[0mdata\u001b[0m\u001b[1;33m)\u001b[0m\u001b[1;33m,\u001b[0m\u001b[1;33m\u001b[0m\u001b[1;33m\u001b[0m\u001b[0m\n\u001b[0m\u001b[0;32m    366\u001b[0m         'float': lambda: FloatingFormat(\n\u001b[0;32m    367\u001b[0m             data, precision, floatmode, suppress, sign, legacy=legacy),\n",
      "\u001b[1;32m~\\anaconda3\\lib\\site-packages\\numpy\\core\\arrayprint.py\u001b[0m in \u001b[0;36m__init__\u001b[1;34m(self, data)\u001b[0m\n\u001b[0;32m   1151\u001b[0m     \u001b[1;32mdef\u001b[0m \u001b[0m__init__\u001b[0m\u001b[1;33m(\u001b[0m\u001b[0mself\u001b[0m\u001b[1;33m,\u001b[0m \u001b[0mdata\u001b[0m\u001b[1;33m)\u001b[0m\u001b[1;33m:\u001b[0m\u001b[1;33m\u001b[0m\u001b[1;33m\u001b[0m\u001b[0m\n\u001b[0;32m   1152\u001b[0m         \u001b[1;32mif\u001b[0m \u001b[0mdata\u001b[0m\u001b[1;33m.\u001b[0m\u001b[0msize\u001b[0m \u001b[1;33m>\u001b[0m \u001b[1;36m0\u001b[0m\u001b[1;33m:\u001b[0m\u001b[1;33m\u001b[0m\u001b[1;33m\u001b[0m\u001b[0m\n\u001b[1;32m-> 1153\u001b[1;33m             max_str_len = max(len(str(np.max(data))),\n\u001b[0m\u001b[0;32m   1154\u001b[0m                               len(str(np.min(data))))\n\u001b[0;32m   1155\u001b[0m         \u001b[1;32melse\u001b[0m\u001b[1;33m:\u001b[0m\u001b[1;33m\u001b[0m\u001b[1;33m\u001b[0m\u001b[0m\n",
      "\u001b[1;31mAttributeError\u001b[0m: module 'numpy' has no attribute 'max'"
     ]
    }
   ],
   "source": [
    "cont = 0\n",
    "for x in arr1:\n",
    "    if x > 5:\n",
    "        cont += 1\n",
    "print(f'Você obteve {cont} nota(s) acima de 5')\n"
   ]
  },
  {
   "cell_type": "markdown",
   "id": "307f91a7",
   "metadata": {},
   "source": [
    "b) Caso na a) o valor seja maior ou igual a 3, crie um novo array com esses números e descubra o resultado da aprovação"
   ]
  },
  {
   "cell_type": "code",
   "execution_count": null,
   "id": "c5d7def2",
   "metadata": {},
   "outputs": [],
   "source": [
    "if cont >= 3:\n",
    "    arr2 = np.extract(arr1[:]> 5, arr1)\n",
    "    print(arr2)\n",
    "else:\n",
    "    print(f'Você não obteve o mínimo de 3 notas acima de 5')"
   ]
  },
  {
   "cell_type": "markdown",
   "id": "b7f89b59",
   "metadata": {},
   "source": [
    "c) Caso na a) o valor seja menor do que 3, crie um novo array com esses números, e descubra se você conseguirá fazer a reaval (para isso é necessário que, dentre essas notas menores do que 5, a sua média tenha sido ao menos 3)"
   ]
  },
  {
   "cell_type": "code",
   "execution_count": null,
   "id": "ce2b1db4",
   "metadata": {},
   "outputs": [],
   "source": [
    "if cont < 3:\n",
    "    arr3 = np.extract(arr1[:] < 5, arr1)\n",
    "    if np.average(arr3) > 3:\n",
    "        print(f'Você poderá fazer reaval')\n",
    "    else:\n",
    "        print('A média das suas notas abaixo de 5 não alcançou o mínimo de 3. Você não pode fazer a reaval')\n",
    "else:\n",
    "    print(f'Você obteve mais de 3 notas acima de 5')"
   ]
  },
  {
   "cell_type": "markdown",
   "id": "922f9b48",
   "metadata": {},
   "source": [
    "4) Dada a facilidade de se mexer com as notas usando Numpy você decidiu criar novos arrays com suas notas em outras matérias. Crie 2 novos arrays com as mesmas características do que o \"arr1\""
   ]
  },
  {
   "cell_type": "code",
   "execution_count": null,
   "id": "1aa591e9",
   "metadata": {},
   "outputs": [],
   "source": [
    "num = []\n",
    "n= 0\n",
    "m = 0\n",
    "while m <2:\n",
    "    while n < 5:\n",
    "        num.append(random.randint(0, 10))\n",
    "        n += 1\n",
    "    arr21 = np.array(num)\n",
    "    m += 1\n",
    "    n = 0\n",
    "    num = []\n",
    "    while n < 5:\n",
    "        num.append(random.randint(0, 10))\n",
    "        n += 1\n",
    "    arr22 = np.array(num)\n",
    "    \n",
    "    \n",
    "\n",
    "print(arr21, arr22)"
   ]
  },
  {
   "cell_type": "markdown",
   "id": "258cbb31",
   "metadata": {},
   "source": [
    "5) a)Transforme os 3 arrays em um único array, de tamanho (3,5)"
   ]
  },
  {
   "cell_type": "code",
   "execution_count": null,
   "id": "bd74fe1e",
   "metadata": {},
   "outputs": [],
   "source": [
    "con = np.vstack((arr1, arr21, arr22))\n",
    "con.shape\n",
    "\n",
    "print(con)"
   ]
  },
  {
   "cell_type": "markdown",
   "id": "52c7d47e",
   "metadata": {},
   "source": [
    "b) Mude o formato de a) para (5,3)"
   ]
  },
  {
   "cell_type": "code",
   "execution_count": null,
   "id": "35b52574",
   "metadata": {},
   "outputs": [],
   "source": [
    "con1 = np.transpose(con)\n",
    "\n",
    "print(con1)"
   ]
  },
  {
   "cell_type": "markdown",
   "id": "4e7b35a8",
   "metadata": {},
   "source": [
    "6) A lista inf_anual tem os dados da inflação anual dos últimos anos (2012,2020) no Brasil (IPCA), crie um array chamado \"inflacao_br\" com os dados da lista\n"
   ]
  },
  {
   "cell_type": "code",
   "execution_count": null,
   "id": "2fd89475",
   "metadata": {},
   "outputs": [],
   "source": [
    "inf_anual = [5.84,5.91,6.41,10.67,6.29,2.95,3.75,4.31,4.52]\n",
    "inflacao_br = np.array(inf_anual)\n",
    "\n",
    "inflacao_br"
   ]
  },
  {
   "cell_type": "markdown",
   "id": "e0c17d7f",
   "metadata": {},
   "source": [
    "7) Suponha que a meta da inflação ficou constante em 4.5 ao longo desses anos, com uma tolerância de 1.5 para mais ou para menos. Descubra em quais anos o número ficou fora dessa tolerância e retorne um array com 1 se isso é verdade, e 0 caso contrário."
   ]
  },
  {
   "cell_type": "code",
   "execution_count": null,
   "id": "acdce620",
   "metadata": {},
   "outputs": [],
   "source": [
    "resposta = (inflacao_br <= 6) & (inflacao_br >= 3)\n",
    "print(resposta)"
   ]
  },
  {
   "cell_type": "markdown",
   "id": "acb34520",
   "metadata": {},
   "source": [
    "8) Plote um gráfico que mostre a evolução anual da inflação, use os anos para o eixo x e a inflação ao eixo y. Nomeie o eixo x como anos e y IPCA, coloque uma cor laranja à reta de inflação."
   ]
  },
  {
   "cell_type": "code",
   "execution_count": null,
   "id": "34e46b9e",
   "metadata": {},
   "outputs": [],
   "source": [
    "anos = np.array([2012,2013,2014,2015,2016,2017,2018,2019,2020])\n",
    "\n",
    "import matplotlib.pyplot as plt\n",
    "\n",
    "plt.xlabel(\"Anos\")\n",
    "plt.ylabel(\"IPCA\")\n",
    "plt.plot(anos, inflacao_br, color =\"orange\")\n",
    "plt.show()"
   ]
  },
  {
   "cell_type": "markdown",
   "id": "4bcd39e8",
   "metadata": {},
   "source": [
    "b) Descreva o comportamento do gráfico."
   ]
  },
  {
   "cell_type": "code",
   "execution_count": null,
   "id": "f130deb5",
   "metadata": {},
   "outputs": [],
   "source": [
    "Entre os anos de 2013 e 2014, a inflação manteve-se em torno de 6 p.p. Em 2015, houve um crescimento abrupto no IPCA, chegando a quase 11 p.p., seguido de uma queda pronunciada até 2017, com um mínimo de 2.95 p.p. A partir desse ano, a inflação apresentou um crescimento mais lento até 2020."
   ]
  }
 ],
 "metadata": {
  "kernelspec": {
   "display_name": "Python 3 (ipykernel)",
   "language": "python",
   "name": "python3"
  },
  "language_info": {
   "codemirror_mode": {
    "name": "ipython",
    "version": 3
   },
   "file_extension": ".py",
   "mimetype": "text/x-python",
   "name": "python",
   "nbconvert_exporter": "python",
   "pygments_lexer": "ipython3",
   "version": "3.9.7"
  }
 },
 "nbformat": 4,
 "nbformat_minor": 5
}
